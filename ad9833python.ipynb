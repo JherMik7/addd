{
 "cells": [
  {
   "cell_type": "code",
   "execution_count": 13,
   "metadata": {},
   "outputs": [
    {
     "ename": "AttributeError",
     "evalue": "module 'serial' has no attribute 'Serial'",
     "output_type": "error",
     "traceback": [
      "\u001b[1;31m---------------------------------------------------------------------------\u001b[0m",
      "\u001b[1;31mAttributeError\u001b[0m                            Traceback (most recent call last)",
      "\u001b[1;32mc:\\Users\\JhersonMiguel\\Desktop\\addd\\ad9833python.ipynb Cell 1\u001b[0m in \u001b[0;36m1\n\u001b[0;32m     <a href='vscode-notebook-cell:/c%3A/Users/JhersonMiguel/Desktop/addd/ad9833python.ipynb#W1sZmlsZQ%3D%3D?line=10'>11</a>\u001b[0m data \u001b[39m=\u001b[39m []\n\u001b[0;32m     <a href='vscode-notebook-cell:/c%3A/Users/JhersonMiguel/Desktop/addd/ad9833python.ipynb#W1sZmlsZQ%3D%3D?line=12'>13</a>\u001b[0m \u001b[39m# Abre la conexión serial\u001b[39;00m\n\u001b[1;32m---> <a href='vscode-notebook-cell:/c%3A/Users/JhersonMiguel/Desktop/addd/ad9833python.ipynb#W1sZmlsZQ%3D%3D?line=13'>14</a>\u001b[0m ser \u001b[39m=\u001b[39m serial\u001b[39m.\u001b[39;49mSerial(\u001b[39m'\u001b[39m\u001b[39mCOM3\u001b[39m\u001b[39m'\u001b[39m, \u001b[39m9600\u001b[39m)\n\u001b[0;32m     <a href='vscode-notebook-cell:/c%3A/Users/JhersonMiguel/Desktop/addd/ad9833python.ipynb#W1sZmlsZQ%3D%3D?line=15'>16</a>\u001b[0m \u001b[39m# Define la función de trazado\u001b[39;00m\n\u001b[0;32m     <a href='vscode-notebook-cell:/c%3A/Users/JhersonMiguel/Desktop/addd/ad9833python.ipynb#W1sZmlsZQ%3D%3D?line=16'>17</a>\u001b[0m \u001b[39mdef\u001b[39;00m \u001b[39mplot_data\u001b[39m():\n",
      "\u001b[1;31mAttributeError\u001b[0m: module 'serial' has no attribute 'Serial'"
     ]
    }
   ],
   "source": [
    "\n",
    "import importlib\n",
    "\n",
    "# Importa la biblioteca pySerial\n",
    "serial = importlib.import_module('serial')\n",
    "\n",
    "import matplotlib.pyplot as plt\n",
    "from drawnow import drawnow\n",
    "import numpy as np\n",
    "\n",
    "# Crea una lista para almacenar los datos\n",
    "data = []\n",
    "\n",
    "# Abre la conexión serial\n",
    "ser = serial.Serial('COM3', 9600)\n",
    "\n",
    "# Define la función de trazado\n",
    "def plot_data():\n",
    "    plt.plot(data)\n",
    "\n",
    "# Lee y traza los datos en tiempo real\n",
    "while True:\n",
    "    if ser.inWaiting():\n",
    "        # Lee una línea de la conexión serial\n",
    "        line = ser.readline().strip()\n",
    "\n",
    "        # Intenta convertir la línea en un número\n",
    "        try:\n",
    "            number = float(line)\n",
    "        except ValueError:\n",
    "            continue\n",
    "\n",
    "        # Añade el número a la lista de datos\n",
    "        data.append(number)\n",
    "\n",
    "        # Limita la lista de datos a 100 elementos\n",
    "        data = data[-100:]\n",
    "\n",
    "        # Traza los datos\n",
    "        drawnow(plot_data)"
   ]
  },
  {
   "cell_type": "code",
   "execution_count": null,
   "metadata": {},
   "outputs": [],
   "source": []
  }
 ],
 "metadata": {
  "kernelspec": {
   "display_name": "Python 3",
   "language": "python",
   "name": "python3"
  },
  "language_info": {
   "codemirror_mode": {
    "name": "ipython",
    "version": 3
   },
   "file_extension": ".py",
   "mimetype": "text/x-python",
   "name": "python",
   "nbconvert_exporter": "python",
   "pygments_lexer": "ipython3",
   "version": "3.11.0"
  },
  "orig_nbformat": 4
 },
 "nbformat": 4,
 "nbformat_minor": 2
}
